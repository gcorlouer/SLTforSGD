{
 "cells": [
  {
   "cell_type": "code",
   "execution_count": 1,
   "metadata": {},
   "outputs": [
    {
     "name": "stdout",
     "output_type": "stream",
     "text": [
      "Lib path: /Users/guime/projects/SLTforSGD/code/lib\n"
     ]
    }
   ],
   "source": [
    "import numpy as np\n",
    "import matplotlib.pyplot as plt\n",
    "import seaborn as sns\n",
    "import torch\n",
    "import ast\n",
    "import os\n",
    "import sys\n",
    "\n",
    "from pathlib import Path\n",
    "\n",
    "lib_path = os.path.abspath(os.path.join(os.getcwd(), '..', 'lib'))\n",
    "print(\"Lib path:\", lib_path)\n",
    "\n",
    "# Append the absolute path to sys.path\n",
    "sys.path.append(lib_path)\n",
    "\n",
    "# Now, try importing onedmodel\n",
    "from onedmodel import *"
   ]
  },
  {
   "cell_type": "code",
   "execution_count": null,
   "metadata": {},
   "outputs": [],
   "source": [
    "# Initialise\n",
    "nSGD = 10**3\n",
    "nsamples = 10**3\n",
    "shuffle = True\n",
    "batch_size= 20\n",
    "lr = 0.01\n",
    "w0 = 1.8\n",
    "seed_init = 1\n",
    "seed_data = 1\n",
    "nw0 = 2\n",
    "wmax = nw0 * w0\n",
    "frac_max = 10**-3\n",
    "model = PolyModel(w0=w0, seed=seed_init, wmax=wmax, wmin=-wmax)\n",
    "sgd_runner = SGDPolyRunner(nSGD=nSGD, nsamples=nsamples, seed=seed_data, shuffle=shuffle, \n",
    "                           batch_size=batch_size, auto=True)\n",
    "df = sgd_runner.generate_trajectories(model)"
   ]
  }
 ],
 "metadata": {
  "kernelspec": {
   "display_name": "devinterp",
   "language": "python",
   "name": "python3"
  },
  "language_info": {
   "codemirror_mode": {
    "name": "ipython",
    "version": 3
   },
   "file_extension": ".py",
   "mimetype": "text/x-python",
   "name": "python",
   "nbconvert_exporter": "python",
   "pygments_lexer": "ipython3",
   "version": "3.11.5"
  }
 },
 "nbformat": 4,
 "nbformat_minor": 2
}
