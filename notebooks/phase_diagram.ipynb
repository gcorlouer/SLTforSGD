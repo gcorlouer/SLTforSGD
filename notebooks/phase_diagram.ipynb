{
 "cells": [
  {
   "cell_type": "code",
   "execution_count": 1,
   "metadata": {},
   "outputs": [],
   "source": [
    "import numpy as np\n",
    "import matplotlib.pyplot as plt\n",
    "import seaborn as sns\n",
    "import torch\n",
    "import ast\n",
    "\n",
    "from sys import path\n",
    "path.insert(0, \"lib\")\n",
    "from lib.onedmodel import *\n",
    "from pathlib import Path"
   ]
  },
  {
   "cell_type": "code",
   "execution_count": 2,
   "metadata": {},
   "outputs": [],
   "source": [
    "# Plotting settings\n",
    "plt.style.use('ggplot')\n",
    "fig_width = 25  # figure width in cm\n",
    "inches_per_cm = 0.393701               # Convert cm to inch\n",
    "golden_mean = (np.sqrt(5)-1.0)/2.0         # Aesthetic ratio\n",
    "fig_width = fig_width*inches_per_cm  # width in inches\n",
    "fig_height = fig_width*golden_mean      # height in inches\n",
    "fig_size =  [fig_width,fig_height]\n",
    "label_size = 14\n",
    "tick_size = 12\n",
    "params = {'backend': 'ps',\n",
    "          'lines.linewidth': 1.5,\n",
    "          'axes.labelsize': label_size,\n",
    "          'axes.titlesize': label_size,\n",
    "          'font.size': label_size,\n",
    "          'legend.fontsize': tick_size,\n",
    "          'xtick.labelsize': tick_size,\n",
    "          'ytick.labelsize': tick_size,\n",
    "          'text.usetex': False,\n",
    "          'figure.figsize': fig_size,\n",
    "          \"font.weight\": \"bold\",\n",
    "          \"axes.labelweight\": \"bold\"}\n",
    "plt.rcParams.update(params)"
   ]
  },
  {
   "cell_type": "code",
   "execution_count": 3,
   "metadata": {},
   "outputs": [
    {
     "name": "stdout",
     "output_type": "stream",
     "text": [
      "Running experiment 0 over 120\n",
      "Running experiment 1 over 120\n",
      "Running experiment 2 over 120\n",
      "Running experiment 3 over 120\n",
      "Running experiment 4 over 120\n",
      "Running experiment 5 over 120\n",
      "Running experiment 6 over 120\n",
      "Running experiment 7 over 120\n",
      "Running experiment 8 over 120\n",
      "Running experiment 9 over 120\n",
      "Running experiment 10 over 120\n",
      "Running experiment 11 over 120\n",
      "Running experiment 12 over 120\n",
      "Running experiment 13 over 120\n",
      "Running experiment 14 over 120\n",
      "Running experiment 15 over 120\n",
      "Running experiment 16 over 120\n",
      "Running experiment 17 over 120\n",
      "Running experiment 18 over 120\n",
      "Running experiment 19 over 120\n",
      "Running experiment 20 over 120\n",
      "Running experiment 21 over 120\n",
      "Running experiment 22 over 120\n",
      "Running experiment 23 over 120\n",
      "Running experiment 24 over 120\n"
     ]
    },
    {
     "name": "stderr",
     "output_type": "stream",
     "text": [
      "/Users/guime/anaconda3/envs/devinterp/lib/python3.11/site-packages/scipy/stats/_stats_mstats_common.py:182: RuntimeWarning: invalid value encountered in scalar divide\n",
      "  slope = ssxym / ssxm\n",
      "/Users/guime/anaconda3/envs/devinterp/lib/python3.11/site-packages/scipy/stats/_stats_mstats_common.py:196: RuntimeWarning: invalid value encountered in sqrt\n",
      "  t = r * np.sqrt(df / ((1.0 - r + TINY)*(1.0 + r + TINY)))\n",
      "/Users/guime/anaconda3/envs/devinterp/lib/python3.11/site-packages/scipy/stats/_stats_mstats_common.py:199: RuntimeWarning: invalid value encountered in scalar divide\n",
      "  slope_stderr = np.sqrt((1 - r**2) * ssym / ssxm / df)\n"
     ]
    },
    {
     "name": "stdout",
     "output_type": "stream",
     "text": [
      "Running experiment 25 over 120\n",
      "Running experiment 26 over 120\n",
      "Running experiment 27 over 120\n"
     ]
    },
    {
     "name": "stderr",
     "output_type": "stream",
     "text": [
      "/Users/guime/anaconda3/envs/devinterp/lib/python3.11/site-packages/scipy/stats/_stats_mstats_common.py:182: RuntimeWarning: invalid value encountered in scalar divide\n",
      "  slope = ssxym / ssxm\n",
      "/Users/guime/anaconda3/envs/devinterp/lib/python3.11/site-packages/scipy/stats/_stats_mstats_common.py:196: RuntimeWarning: invalid value encountered in sqrt\n",
      "  t = r * np.sqrt(df / ((1.0 - r + TINY)*(1.0 + r + TINY)))\n",
      "/Users/guime/anaconda3/envs/devinterp/lib/python3.11/site-packages/scipy/stats/_stats_mstats_common.py:199: RuntimeWarning: invalid value encountered in scalar divide\n",
      "  slope_stderr = np.sqrt((1 - r**2) * ssym / ssxm / df)\n"
     ]
    },
    {
     "name": "stdout",
     "output_type": "stream",
     "text": [
      "Running experiment 28 over 120\n",
      "Running experiment 29 over 120\n",
      "Running experiment 30 over 120\n"
     ]
    },
    {
     "name": "stderr",
     "output_type": "stream",
     "text": [
      "/Users/guime/anaconda3/envs/devinterp/lib/python3.11/site-packages/scipy/stats/_stats_mstats_common.py:182: RuntimeWarning: invalid value encountered in scalar divide\n",
      "  slope = ssxym / ssxm\n",
      "/Users/guime/anaconda3/envs/devinterp/lib/python3.11/site-packages/scipy/stats/_stats_mstats_common.py:196: RuntimeWarning: invalid value encountered in sqrt\n",
      "  t = r * np.sqrt(df / ((1.0 - r + TINY)*(1.0 + r + TINY)))\n",
      "/Users/guime/anaconda3/envs/devinterp/lib/python3.11/site-packages/scipy/stats/_stats_mstats_common.py:199: RuntimeWarning: invalid value encountered in scalar divide\n",
      "  slope_stderr = np.sqrt((1 - r**2) * ssym / ssxm / df)\n"
     ]
    },
    {
     "name": "stdout",
     "output_type": "stream",
     "text": [
      "Running experiment 31 over 120\n",
      "Running experiment 32 over 120\n",
      "Running experiment 33 over 120\n"
     ]
    },
    {
     "name": "stderr",
     "output_type": "stream",
     "text": [
      "/Users/guime/anaconda3/envs/devinterp/lib/python3.11/site-packages/scipy/stats/_stats_mstats_common.py:182: RuntimeWarning: invalid value encountered in scalar divide\n",
      "  slope = ssxym / ssxm\n",
      "/Users/guime/anaconda3/envs/devinterp/lib/python3.11/site-packages/scipy/stats/_stats_mstats_common.py:196: RuntimeWarning: invalid value encountered in sqrt\n",
      "  t = r * np.sqrt(df / ((1.0 - r + TINY)*(1.0 + r + TINY)))\n",
      "/Users/guime/anaconda3/envs/devinterp/lib/python3.11/site-packages/scipy/stats/_stats_mstats_common.py:199: RuntimeWarning: invalid value encountered in scalar divide\n",
      "  slope_stderr = np.sqrt((1 - r**2) * ssym / ssxm / df)\n"
     ]
    },
    {
     "name": "stdout",
     "output_type": "stream",
     "text": [
      "Running experiment 34 over 120\n",
      "Running experiment 35 over 120\n",
      "Running experiment 36 over 120\n"
     ]
    },
    {
     "name": "stderr",
     "output_type": "stream",
     "text": [
      "/Users/guime/anaconda3/envs/devinterp/lib/python3.11/site-packages/scipy/stats/_stats_mstats_common.py:182: RuntimeWarning: invalid value encountered in scalar divide\n",
      "  slope = ssxym / ssxm\n",
      "/Users/guime/anaconda3/envs/devinterp/lib/python3.11/site-packages/scipy/stats/_stats_mstats_common.py:196: RuntimeWarning: invalid value encountered in sqrt\n",
      "  t = r * np.sqrt(df / ((1.0 - r + TINY)*(1.0 + r + TINY)))\n",
      "/Users/guime/anaconda3/envs/devinterp/lib/python3.11/site-packages/scipy/stats/_stats_mstats_common.py:199: RuntimeWarning: invalid value encountered in scalar divide\n",
      "  slope_stderr = np.sqrt((1 - r**2) * ssym / ssxm / df)\n"
     ]
    },
    {
     "name": "stdout",
     "output_type": "stream",
     "text": [
      "Running experiment 37 over 120\n",
      "Running experiment 38 over 120\n",
      "Running experiment 39 over 120\n"
     ]
    },
    {
     "name": "stderr",
     "output_type": "stream",
     "text": [
      "/Users/guime/anaconda3/envs/devinterp/lib/python3.11/site-packages/scipy/stats/_stats_mstats_common.py:182: RuntimeWarning: invalid value encountered in scalar divide\n",
      "  slope = ssxym / ssxm\n",
      "/Users/guime/anaconda3/envs/devinterp/lib/python3.11/site-packages/scipy/stats/_stats_mstats_common.py:196: RuntimeWarning: invalid value encountered in sqrt\n",
      "  t = r * np.sqrt(df / ((1.0 - r + TINY)*(1.0 + r + TINY)))\n",
      "/Users/guime/anaconda3/envs/devinterp/lib/python3.11/site-packages/scipy/stats/_stats_mstats_common.py:199: RuntimeWarning: invalid value encountered in scalar divide\n",
      "  slope_stderr = np.sqrt((1 - r**2) * ssym / ssxm / df)\n"
     ]
    },
    {
     "name": "stdout",
     "output_type": "stream",
     "text": [
      "Running experiment 40 over 120\n",
      "Running experiment 41 over 120\n",
      "Running experiment 42 over 120\n"
     ]
    },
    {
     "name": "stderr",
     "output_type": "stream",
     "text": [
      "/Users/guime/anaconda3/envs/devinterp/lib/python3.11/site-packages/scipy/stats/_stats_mstats_common.py:182: RuntimeWarning: invalid value encountered in scalar divide\n",
      "  slope = ssxym / ssxm\n",
      "/Users/guime/anaconda3/envs/devinterp/lib/python3.11/site-packages/scipy/stats/_stats_mstats_common.py:196: RuntimeWarning: invalid value encountered in sqrt\n",
      "  t = r * np.sqrt(df / ((1.0 - r + TINY)*(1.0 + r + TINY)))\n",
      "/Users/guime/anaconda3/envs/devinterp/lib/python3.11/site-packages/scipy/stats/_stats_mstats_common.py:199: RuntimeWarning: invalid value encountered in scalar divide\n",
      "  slope_stderr = np.sqrt((1 - r**2) * ssym / ssxm / df)\n"
     ]
    },
    {
     "name": "stdout",
     "output_type": "stream",
     "text": [
      "Running experiment 43 over 120\n",
      "Running experiment 44 over 120\n",
      "Running experiment 45 over 120\n",
      "Running experiment 46 over 120\n",
      "Running experiment 47 over 120\n",
      "Running experiment 48 over 120\n",
      "Running experiment 49 over 120\n",
      "Running experiment 50 over 120\n",
      "Running experiment 51 over 120\n"
     ]
    },
    {
     "name": "stderr",
     "output_type": "stream",
     "text": [
      "/Users/guime/anaconda3/envs/devinterp/lib/python3.11/site-packages/scipy/stats/_stats_mstats_common.py:182: RuntimeWarning: invalid value encountered in scalar divide\n",
      "  slope = ssxym / ssxm\n",
      "/Users/guime/anaconda3/envs/devinterp/lib/python3.11/site-packages/scipy/stats/_stats_mstats_common.py:196: RuntimeWarning: invalid value encountered in sqrt\n",
      "  t = r * np.sqrt(df / ((1.0 - r + TINY)*(1.0 + r + TINY)))\n",
      "/Users/guime/anaconda3/envs/devinterp/lib/python3.11/site-packages/scipy/stats/_stats_mstats_common.py:199: RuntimeWarning: invalid value encountered in scalar divide\n",
      "  slope_stderr = np.sqrt((1 - r**2) * ssym / ssxm / df)\n"
     ]
    },
    {
     "name": "stdout",
     "output_type": "stream",
     "text": [
      "Running experiment 52 over 120\n",
      "Running experiment 53 over 120\n",
      "Running experiment 54 over 120\n"
     ]
    },
    {
     "name": "stderr",
     "output_type": "stream",
     "text": [
      "/Users/guime/anaconda3/envs/devinterp/lib/python3.11/site-packages/scipy/stats/_stats_mstats_common.py:182: RuntimeWarning: invalid value encountered in scalar divide\n",
      "  slope = ssxym / ssxm\n",
      "/Users/guime/anaconda3/envs/devinterp/lib/python3.11/site-packages/scipy/stats/_stats_mstats_common.py:196: RuntimeWarning: invalid value encountered in sqrt\n",
      "  t = r * np.sqrt(df / ((1.0 - r + TINY)*(1.0 + r + TINY)))\n",
      "/Users/guime/anaconda3/envs/devinterp/lib/python3.11/site-packages/scipy/stats/_stats_mstats_common.py:199: RuntimeWarning: invalid value encountered in scalar divide\n",
      "  slope_stderr = np.sqrt((1 - r**2) * ssym / ssxm / df)\n"
     ]
    },
    {
     "name": "stdout",
     "output_type": "stream",
     "text": [
      "Running experiment 55 over 120\n",
      "Running experiment 56 over 120\n",
      "Running experiment 57 over 120\n"
     ]
    },
    {
     "name": "stderr",
     "output_type": "stream",
     "text": [
      "/Users/guime/anaconda3/envs/devinterp/lib/python3.11/site-packages/scipy/stats/_stats_mstats_common.py:182: RuntimeWarning: invalid value encountered in scalar divide\n",
      "  slope = ssxym / ssxm\n",
      "/Users/guime/anaconda3/envs/devinterp/lib/python3.11/site-packages/scipy/stats/_stats_mstats_common.py:196: RuntimeWarning: invalid value encountered in sqrt\n",
      "  t = r * np.sqrt(df / ((1.0 - r + TINY)*(1.0 + r + TINY)))\n",
      "/Users/guime/anaconda3/envs/devinterp/lib/python3.11/site-packages/scipy/stats/_stats_mstats_common.py:199: RuntimeWarning: invalid value encountered in scalar divide\n",
      "  slope_stderr = np.sqrt((1 - r**2) * ssym / ssxm / df)\n"
     ]
    },
    {
     "name": "stdout",
     "output_type": "stream",
     "text": [
      "Running experiment 58 over 120\n",
      "Running experiment 59 over 120\n",
      "Running experiment 60 over 120\n"
     ]
    },
    {
     "name": "stderr",
     "output_type": "stream",
     "text": [
      "/Users/guime/anaconda3/envs/devinterp/lib/python3.11/site-packages/scipy/stats/_stats_mstats_common.py:182: RuntimeWarning: invalid value encountered in scalar divide\n",
      "  slope = ssxym / ssxm\n",
      "/Users/guime/anaconda3/envs/devinterp/lib/python3.11/site-packages/scipy/stats/_stats_mstats_common.py:196: RuntimeWarning: invalid value encountered in sqrt\n",
      "  t = r * np.sqrt(df / ((1.0 - r + TINY)*(1.0 + r + TINY)))\n",
      "/Users/guime/anaconda3/envs/devinterp/lib/python3.11/site-packages/scipy/stats/_stats_mstats_common.py:199: RuntimeWarning: invalid value encountered in scalar divide\n",
      "  slope_stderr = np.sqrt((1 - r**2) * ssym / ssxm / df)\n"
     ]
    },
    {
     "name": "stdout",
     "output_type": "stream",
     "text": [
      "Running experiment 61 over 120\n",
      "Running experiment 62 over 120\n",
      "Running experiment 63 over 120\n",
      "Running experiment 64 over 120\n",
      "Running experiment 65 over 120\n",
      "Running experiment 66 over 120\n",
      "Running experiment 67 over 120\n",
      "Running experiment 68 over 120\n",
      "Running experiment 69 over 120\n"
     ]
    },
    {
     "name": "stderr",
     "output_type": "stream",
     "text": [
      "/Users/guime/anaconda3/envs/devinterp/lib/python3.11/site-packages/scipy/stats/_stats_mstats_common.py:182: RuntimeWarning: invalid value encountered in scalar divide\n",
      "  slope = ssxym / ssxm\n",
      "/Users/guime/anaconda3/envs/devinterp/lib/python3.11/site-packages/scipy/stats/_stats_mstats_common.py:196: RuntimeWarning: invalid value encountered in sqrt\n",
      "  t = r * np.sqrt(df / ((1.0 - r + TINY)*(1.0 + r + TINY)))\n",
      "/Users/guime/anaconda3/envs/devinterp/lib/python3.11/site-packages/scipy/stats/_stats_mstats_common.py:199: RuntimeWarning: invalid value encountered in scalar divide\n",
      "  slope_stderr = np.sqrt((1 - r**2) * ssym / ssxm / df)\n"
     ]
    },
    {
     "name": "stdout",
     "output_type": "stream",
     "text": [
      "Running experiment 70 over 120\n",
      "Running experiment 71 over 120\n",
      "Running experiment 72 over 120\n",
      "Running experiment 73 over 120\n",
      "Running experiment 74 over 120\n",
      "Running experiment 75 over 120\n"
     ]
    },
    {
     "name": "stderr",
     "output_type": "stream",
     "text": [
      "/Users/guime/projects/sgd_singular/sgd_on_singularities/experiments/lib/onedmodel.py:311: RuntimeWarning: divide by zero encountered in log\n",
      "  log_frac = np.log(fraction[:itmax])\n",
      "/Users/guime/anaconda3/envs/devinterp/lib/python3.11/site-packages/numpy/lib/function_base.py:2742: RuntimeWarning: invalid value encountered in subtract\n",
      "  X -= avg[:, None]\n"
     ]
    },
    {
     "name": "stdout",
     "output_type": "stream",
     "text": [
      "Running experiment 76 over 120\n",
      "Running experiment 77 over 120\n",
      "Running experiment 78 over 120\n",
      "Running experiment 79 over 120\n",
      "Running experiment 80 over 120\n",
      "Running experiment 81 over 120\n"
     ]
    },
    {
     "name": "stderr",
     "output_type": "stream",
     "text": [
      "/Users/guime/anaconda3/envs/devinterp/lib/python3.11/site-packages/scipy/stats/_stats_mstats_common.py:182: RuntimeWarning: invalid value encountered in scalar divide\n",
      "  slope = ssxym / ssxm\n",
      "/Users/guime/anaconda3/envs/devinterp/lib/python3.11/site-packages/scipy/stats/_stats_mstats_common.py:196: RuntimeWarning: invalid value encountered in sqrt\n",
      "  t = r * np.sqrt(df / ((1.0 - r + TINY)*(1.0 + r + TINY)))\n",
      "/Users/guime/anaconda3/envs/devinterp/lib/python3.11/site-packages/scipy/stats/_stats_mstats_common.py:199: RuntimeWarning: invalid value encountered in scalar divide\n",
      "  slope_stderr = np.sqrt((1 - r**2) * ssym / ssxm / df)\n"
     ]
    },
    {
     "name": "stdout",
     "output_type": "stream",
     "text": [
      "Running experiment 82 over 120\n",
      "Running experiment 83 over 120\n",
      "Running experiment 84 over 120\n"
     ]
    },
    {
     "name": "stderr",
     "output_type": "stream",
     "text": [
      "/Users/guime/anaconda3/envs/devinterp/lib/python3.11/site-packages/scipy/stats/_stats_mstats_common.py:182: RuntimeWarning: invalid value encountered in scalar divide\n",
      "  slope = ssxym / ssxm\n",
      "/Users/guime/anaconda3/envs/devinterp/lib/python3.11/site-packages/scipy/stats/_stats_mstats_common.py:196: RuntimeWarning: invalid value encountered in sqrt\n",
      "  t = r * np.sqrt(df / ((1.0 - r + TINY)*(1.0 + r + TINY)))\n",
      "/Users/guime/anaconda3/envs/devinterp/lib/python3.11/site-packages/scipy/stats/_stats_mstats_common.py:199: RuntimeWarning: invalid value encountered in scalar divide\n",
      "  slope_stderr = np.sqrt((1 - r**2) * ssym / ssxm / df)\n"
     ]
    },
    {
     "name": "stdout",
     "output_type": "stream",
     "text": [
      "Running experiment 85 over 120\n",
      "Running experiment 86 over 120\n",
      "Running experiment 87 over 120\n",
      "Running experiment 88 over 120\n",
      "Running experiment 89 over 120\n",
      "Running experiment 90 over 120\n",
      "Running experiment 91 over 120\n",
      "Running experiment 92 over 120\n",
      "Running experiment 93 over 120\n"
     ]
    },
    {
     "name": "stderr",
     "output_type": "stream",
     "text": [
      "/Users/guime/anaconda3/envs/devinterp/lib/python3.11/site-packages/scipy/stats/_stats_mstats_common.py:182: RuntimeWarning: invalid value encountered in scalar divide\n",
      "  slope = ssxym / ssxm\n",
      "/Users/guime/anaconda3/envs/devinterp/lib/python3.11/site-packages/scipy/stats/_stats_mstats_common.py:196: RuntimeWarning: invalid value encountered in sqrt\n",
      "  t = r * np.sqrt(df / ((1.0 - r + TINY)*(1.0 + r + TINY)))\n",
      "/Users/guime/anaconda3/envs/devinterp/lib/python3.11/site-packages/scipy/stats/_stats_mstats_common.py:199: RuntimeWarning: invalid value encountered in scalar divide\n",
      "  slope_stderr = np.sqrt((1 - r**2) * ssym / ssxm / df)\n"
     ]
    },
    {
     "name": "stdout",
     "output_type": "stream",
     "text": [
      "Running experiment 94 over 120\n",
      "Running experiment 95 over 120\n",
      "Running experiment 96 over 120\n"
     ]
    },
    {
     "name": "stderr",
     "output_type": "stream",
     "text": [
      "/Users/guime/anaconda3/envs/devinterp/lib/python3.11/site-packages/scipy/stats/_stats_mstats_common.py:182: RuntimeWarning: invalid value encountered in scalar divide\n",
      "  slope = ssxym / ssxm\n",
      "/Users/guime/anaconda3/envs/devinterp/lib/python3.11/site-packages/scipy/stats/_stats_mstats_common.py:196: RuntimeWarning: invalid value encountered in sqrt\n",
      "  t = r * np.sqrt(df / ((1.0 - r + TINY)*(1.0 + r + TINY)))\n",
      "/Users/guime/anaconda3/envs/devinterp/lib/python3.11/site-packages/scipy/stats/_stats_mstats_common.py:199: RuntimeWarning: invalid value encountered in scalar divide\n",
      "  slope_stderr = np.sqrt((1 - r**2) * ssym / ssxm / df)\n"
     ]
    },
    {
     "name": "stdout",
     "output_type": "stream",
     "text": [
      "Running experiment 97 over 120\n",
      "Running experiment 98 over 120\n",
      "Running experiment 99 over 120\n"
     ]
    },
    {
     "name": "stderr",
     "output_type": "stream",
     "text": [
      "/Users/guime/anaconda3/envs/devinterp/lib/python3.11/site-packages/scipy/stats/_stats_mstats_common.py:182: RuntimeWarning: invalid value encountered in scalar divide\n",
      "  slope = ssxym / ssxm\n",
      "/Users/guime/anaconda3/envs/devinterp/lib/python3.11/site-packages/scipy/stats/_stats_mstats_common.py:196: RuntimeWarning: invalid value encountered in sqrt\n",
      "  t = r * np.sqrt(df / ((1.0 - r + TINY)*(1.0 + r + TINY)))\n",
      "/Users/guime/anaconda3/envs/devinterp/lib/python3.11/site-packages/scipy/stats/_stats_mstats_common.py:199: RuntimeWarning: invalid value encountered in scalar divide\n",
      "  slope_stderr = np.sqrt((1 - r**2) * ssym / ssxm / df)\n"
     ]
    },
    {
     "name": "stdout",
     "output_type": "stream",
     "text": [
      "Running experiment 100 over 120\n",
      "Running experiment 101 over 120\n",
      "Running experiment 102 over 120\n"
     ]
    },
    {
     "name": "stderr",
     "output_type": "stream",
     "text": [
      "/Users/guime/anaconda3/envs/devinterp/lib/python3.11/site-packages/scipy/stats/_stats_mstats_common.py:182: RuntimeWarning: invalid value encountered in scalar divide\n",
      "  slope = ssxym / ssxm\n",
      "/Users/guime/anaconda3/envs/devinterp/lib/python3.11/site-packages/scipy/stats/_stats_mstats_common.py:196: RuntimeWarning: invalid value encountered in sqrt\n",
      "  t = r * np.sqrt(df / ((1.0 - r + TINY)*(1.0 + r + TINY)))\n",
      "/Users/guime/anaconda3/envs/devinterp/lib/python3.11/site-packages/scipy/stats/_stats_mstats_common.py:199: RuntimeWarning: invalid value encountered in scalar divide\n",
      "  slope_stderr = np.sqrt((1 - r**2) * ssym / ssxm / df)\n"
     ]
    },
    {
     "name": "stdout",
     "output_type": "stream",
     "text": [
      "Running experiment 103 over 120\n",
      "Running experiment 104 over 120\n",
      "Running experiment 105 over 120\n"
     ]
    },
    {
     "name": "stderr",
     "output_type": "stream",
     "text": [
      "/Users/guime/anaconda3/envs/devinterp/lib/python3.11/site-packages/scipy/stats/_stats_mstats_common.py:182: RuntimeWarning: invalid value encountered in scalar divide\n",
      "  slope = ssxym / ssxm\n",
      "/Users/guime/anaconda3/envs/devinterp/lib/python3.11/site-packages/scipy/stats/_stats_mstats_common.py:196: RuntimeWarning: invalid value encountered in sqrt\n",
      "  t = r * np.sqrt(df / ((1.0 - r + TINY)*(1.0 + r + TINY)))\n",
      "/Users/guime/anaconda3/envs/devinterp/lib/python3.11/site-packages/scipy/stats/_stats_mstats_common.py:199: RuntimeWarning: invalid value encountered in scalar divide\n",
      "  slope_stderr = np.sqrt((1 - r**2) * ssym / ssxm / df)\n"
     ]
    },
    {
     "name": "stdout",
     "output_type": "stream",
     "text": [
      "Running experiment 106 over 120\n",
      "Running experiment 107 over 120\n",
      "Running experiment 108 over 120\n"
     ]
    },
    {
     "name": "stderr",
     "output_type": "stream",
     "text": [
      "/Users/guime/anaconda3/envs/devinterp/lib/python3.11/site-packages/scipy/stats/_stats_mstats_common.py:182: RuntimeWarning: invalid value encountered in scalar divide\n",
      "  slope = ssxym / ssxm\n",
      "/Users/guime/anaconda3/envs/devinterp/lib/python3.11/site-packages/scipy/stats/_stats_mstats_common.py:196: RuntimeWarning: invalid value encountered in sqrt\n",
      "  t = r * np.sqrt(df / ((1.0 - r + TINY)*(1.0 + r + TINY)))\n",
      "/Users/guime/anaconda3/envs/devinterp/lib/python3.11/site-packages/scipy/stats/_stats_mstats_common.py:199: RuntimeWarning: invalid value encountered in scalar divide\n",
      "  slope_stderr = np.sqrt((1 - r**2) * ssym / ssxm / df)\n"
     ]
    },
    {
     "name": "stdout",
     "output_type": "stream",
     "text": [
      "Running experiment 109 over 120\n",
      "Running experiment 110 over 120\n",
      "Running experiment 111 over 120\n"
     ]
    },
    {
     "name": "stderr",
     "output_type": "stream",
     "text": [
      "/Users/guime/anaconda3/envs/devinterp/lib/python3.11/site-packages/scipy/stats/_stats_mstats_common.py:182: RuntimeWarning: invalid value encountered in scalar divide\n",
      "  slope = ssxym / ssxm\n",
      "/Users/guime/anaconda3/envs/devinterp/lib/python3.11/site-packages/scipy/stats/_stats_mstats_common.py:196: RuntimeWarning: invalid value encountered in sqrt\n",
      "  t = r * np.sqrt(df / ((1.0 - r + TINY)*(1.0 + r + TINY)))\n",
      "/Users/guime/anaconda3/envs/devinterp/lib/python3.11/site-packages/scipy/stats/_stats_mstats_common.py:199: RuntimeWarning: invalid value encountered in scalar divide\n",
      "  slope_stderr = np.sqrt((1 - r**2) * ssym / ssxm / df)\n"
     ]
    },
    {
     "name": "stdout",
     "output_type": "stream",
     "text": [
      "Running experiment 112 over 120\n",
      "Running experiment 113 over 120\n",
      "Running experiment 114 over 120\n"
     ]
    },
    {
     "name": "stderr",
     "output_type": "stream",
     "text": [
      "/Users/guime/anaconda3/envs/devinterp/lib/python3.11/site-packages/scipy/stats/_stats_mstats_common.py:182: RuntimeWarning: invalid value encountered in scalar divide\n",
      "  slope = ssxym / ssxm\n",
      "/Users/guime/anaconda3/envs/devinterp/lib/python3.11/site-packages/scipy/stats/_stats_mstats_common.py:196: RuntimeWarning: invalid value encountered in sqrt\n",
      "  t = r * np.sqrt(df / ((1.0 - r + TINY)*(1.0 + r + TINY)))\n",
      "/Users/guime/anaconda3/envs/devinterp/lib/python3.11/site-packages/scipy/stats/_stats_mstats_common.py:199: RuntimeWarning: invalid value encountered in scalar divide\n",
      "  slope_stderr = np.sqrt((1 - r**2) * ssym / ssxm / df)\n"
     ]
    },
    {
     "name": "stdout",
     "output_type": "stream",
     "text": [
      "Running experiment 115 over 120\n",
      "Running experiment 116 over 120\n",
      "Running experiment 117 over 120\n"
     ]
    },
    {
     "name": "stderr",
     "output_type": "stream",
     "text": [
      "/Users/guime/anaconda3/envs/devinterp/lib/python3.11/site-packages/scipy/stats/_stats_mstats_common.py:182: RuntimeWarning: invalid value encountered in scalar divide\n",
      "  slope = ssxym / ssxm\n",
      "/Users/guime/anaconda3/envs/devinterp/lib/python3.11/site-packages/scipy/stats/_stats_mstats_common.py:196: RuntimeWarning: invalid value encountered in sqrt\n",
      "  t = r * np.sqrt(df / ((1.0 - r + TINY)*(1.0 + r + TINY)))\n",
      "/Users/guime/anaconda3/envs/devinterp/lib/python3.11/site-packages/scipy/stats/_stats_mstats_common.py:199: RuntimeWarning: invalid value encountered in scalar divide\n",
      "  slope_stderr = np.sqrt((1 - r**2) * ssym / ssxm / df)\n"
     ]
    },
    {
     "name": "stdout",
     "output_type": "stream",
     "text": [
      "Running experiment 118 over 120\n",
      "Running experiment 119 over 120\n"
     ]
    }
   ],
   "source": [
    "# Initialise\n",
    "nSGD = 10**3\n",
    "nsamples = 10**3\n",
    "shuffle = True\n",
    "batch_size= 20\n",
    "w0 = 1.8\n",
    "seed_init = 1\n",
    "seed_data = 1\n",
    "nw0 = 2\n",
    "wmax = nw0 * w0\n",
    "frac_max = 10**-2\n",
    "model = PolyModel(w0=w0, seed=seed_init, wmax=wmax, wmin=-wmax)\n",
    "sgd_runner = SGDPolyRunner(nSGD=nSGD, nsamples=nsamples, seed=seed_data, shuffle=shuffle, \n",
    "                           batch_size=batch_size, auto=True)\n",
    "# Run parameter sweep\n",
    "w0_range = np.arange(1.5, 2, 0.1)\n",
    "batch_range = np.arange(5, 80, 10)\n",
    "lr_range = [0.1, 0.01, 0.001]\n",
    "df = sgd_runner.parameter_sweep(w0_range, batch_range, lr_range, \n",
    "                        model, frac_max=frac_max)"
   ]
  },
  {
   "cell_type": "code",
   "execution_count": 4,
   "metadata": {},
   "outputs": [
    {
     "data": {
      "text/html": [
       "<div>\n",
       "<style scoped>\n",
       "    .dataframe tbody tr th:only-of-type {\n",
       "        vertical-align: middle;\n",
       "    }\n",
       "\n",
       "    .dataframe tbody tr th {\n",
       "        vertical-align: top;\n",
       "    }\n",
       "\n",
       "    .dataframe thead th {\n",
       "        text-align: right;\n",
       "    }\n",
       "</style>\n",
       "<table border=\"1\" class=\"dataframe\">\n",
       "  <thead>\n",
       "    <tr style=\"text-align: right;\">\n",
       "      <th></th>\n",
       "      <th>escape_rate</th>\n",
       "      <th>lr/B</th>\n",
       "      <th>w0</th>\n",
       "      <th>pvalue</th>\n",
       "    </tr>\n",
       "  </thead>\n",
       "  <tbody>\n",
       "    <tr>\n",
       "      <th>0</th>\n",
       "      <td>-0.852374</td>\n",
       "      <td>0.020000</td>\n",
       "      <td>1.5</td>\n",
       "      <td>6.839591e-02</td>\n",
       "    </tr>\n",
       "    <tr>\n",
       "      <th>1</th>\n",
       "      <td>-0.010782</td>\n",
       "      <td>0.002000</td>\n",
       "      <td>1.5</td>\n",
       "      <td>7.442037e-204</td>\n",
       "    </tr>\n",
       "    <tr>\n",
       "      <th>2</th>\n",
       "      <td>-0.000019</td>\n",
       "      <td>0.000200</td>\n",
       "      <td>1.5</td>\n",
       "      <td>9.850505e-02</td>\n",
       "    </tr>\n",
       "    <tr>\n",
       "      <th>3</th>\n",
       "      <td>-0.752039</td>\n",
       "      <td>0.006667</td>\n",
       "      <td>1.5</td>\n",
       "      <td>2.876315e-02</td>\n",
       "    </tr>\n",
       "    <tr>\n",
       "      <th>4</th>\n",
       "      <td>-0.000491</td>\n",
       "      <td>0.000667</td>\n",
       "      <td>1.5</td>\n",
       "      <td>1.942815e-03</td>\n",
       "    </tr>\n",
       "    <tr>\n",
       "      <th>...</th>\n",
       "      <td>...</td>\n",
       "      <td>...</td>\n",
       "      <td>...</td>\n",
       "      <td>...</td>\n",
       "    </tr>\n",
       "    <tr>\n",
       "      <th>115</th>\n",
       "      <td>-0.325728</td>\n",
       "      <td>0.000154</td>\n",
       "      <td>1.9</td>\n",
       "      <td>2.935814e-09</td>\n",
       "    </tr>\n",
       "    <tr>\n",
       "      <th>116</th>\n",
       "      <td>-0.003575</td>\n",
       "      <td>0.000015</td>\n",
       "      <td>1.9</td>\n",
       "      <td>1.037709e-01</td>\n",
       "    </tr>\n",
       "    <tr>\n",
       "      <th>117</th>\n",
       "      <td>NaN</td>\n",
       "      <td>0.001333</td>\n",
       "      <td>1.9</td>\n",
       "      <td>NaN</td>\n",
       "    </tr>\n",
       "    <tr>\n",
       "      <th>118</th>\n",
       "      <td>-0.340052</td>\n",
       "      <td>0.000133</td>\n",
       "      <td>1.9</td>\n",
       "      <td>8.986496e-12</td>\n",
       "    </tr>\n",
       "    <tr>\n",
       "      <th>119</th>\n",
       "      <td>-0.004633</td>\n",
       "      <td>0.000013</td>\n",
       "      <td>1.9</td>\n",
       "      <td>1.069075e-01</td>\n",
       "    </tr>\n",
       "  </tbody>\n",
       "</table>\n",
       "<p>120 rows × 4 columns</p>\n",
       "</div>"
      ],
      "text/plain": [
       "     escape_rate      lr/B   w0         pvalue\n",
       "0      -0.852374  0.020000  1.5   6.839591e-02\n",
       "1      -0.010782  0.002000  1.5  7.442037e-204\n",
       "2      -0.000019  0.000200  1.5   9.850505e-02\n",
       "3      -0.752039  0.006667  1.5   2.876315e-02\n",
       "4      -0.000491  0.000667  1.5   1.942815e-03\n",
       "..           ...       ...  ...            ...\n",
       "115    -0.325728  0.000154  1.9   2.935814e-09\n",
       "116    -0.003575  0.000015  1.9   1.037709e-01\n",
       "117          NaN  0.001333  1.9            NaN\n",
       "118    -0.340052  0.000133  1.9   8.986496e-12\n",
       "119    -0.004633  0.000013  1.9   1.069075e-01\n",
       "\n",
       "[120 rows x 4 columns]"
      ]
     },
     "execution_count": 4,
     "metadata": {},
     "output_type": "execute_result"
    }
   ],
   "source": [
    "df"
   ]
  },
  {
   "cell_type": "code",
   "execution_count": 26,
   "metadata": {},
   "outputs": [
    {
     "data": {
      "image/png": "[encoded data removed]",
      "text/plain": [
       "<Figure size 984.253x608.301 with 2 Axes>"
      ]
     },
     "metadata": {},
     "output_type": "display_data"
    }
   ],
   "source": [
    "%matplotlib inline\n",
    "from scipy.interpolate import griddata\n",
    "cleaned_df = df.copy().dropna()\n",
    "cleaned_df[\"escape_rate\"] = cleaned_df[\"escape_rate\"].abs()\n",
    "tmax = len(cleaned_df)\n",
    "# Define the grid over which we will interpolate\n",
    "xi = np.linspace(cleaned_df['lr/B'].min(), cleaned_df['lr/B'].max(), tmax)\n",
    "yi = np.linspace(cleaned_df['w0'].min(), cleaned_df['w0'].max(), tmax)\n",
    "Xi, Yi = np.meshgrid(xi, yi)\n",
    "\n",
    "# Create the scatter plot\n",
    "plt.scatter(cleaned_df['w0'], cleaned_df['escape_rate'], c=cleaned_df['lr/B'], cmap='viridis')\n",
    "\n",
    "# Adding a colorbar to show the values of escape_rate\n",
    "plt.colorbar(label='lr/B')\n",
    "\n",
    "# Adding labels and title\n",
    "plt.xlabel('w0')\n",
    "plt.ylabel('Escape rate')\n",
    "plt.title(f'Escape rate, {nSGD} trajectories, {nsamples} samples')\n",
    "plt.show()"
   ]
  },
  {
   "cell_type": "code",
   "execution_count": null,
   "metadata": {},
   "outputs": [],
   "source": []
  },
  {
   "cell_type": "code",
   "execution_count": 11,
   "metadata": {},
   "outputs": [
    {
     "data": {
      "text/plain": [
       "(array([ 0.43260242,  0.        ,  0.        ,  0.        ,  0.        ,\n",
       "         0.        ,  0.43260242,  0.        ,  0.        ,  0.43260242,\n",
       "         0.43260242,  0.        ,  0.        ,  0.        ,  1.29780726,\n",
       "         0.        ,  0.        ,  0.        ,  0.86520484,  0.        ,\n",
       "         0.        ,  0.86520484,  0.        ,  0.43260242,  0.        ,\n",
       "         0.43260242,  0.43260242,  0.        ,  0.43260242,  0.        ,\n",
       "         0.43260242,  0.        ,  0.        ,  0.        ,  0.        ,\n",
       "         0.86520484,  1.29780726,  0.43260242,  0.43260242,  0.43260242,\n",
       "         0.        ,  0.        ,  0.43260242,  1.73040968,  1.29780726,\n",
       "         0.        ,  0.43260242,  0.86520484,  1.73040968, 24.65833792]),\n",
       " array([-1.20397280e+00, -1.17989373e+00, -1.15581465e+00, -1.13173558e+00,\n",
       "        -1.10765650e+00, -1.08357742e+00, -1.05949835e+00, -1.03541927e+00,\n",
       "        -1.01134019e+00, -9.87261118e-01, -9.63182041e-01, -9.39102965e-01,\n",
       "        -9.15023889e-01, -8.90944813e-01, -8.66865736e-01, -8.42786660e-01,\n",
       "        -8.18707584e-01, -7.94628507e-01, -7.70549431e-01, -7.46470355e-01,\n",
       "        -7.22391278e-01, -6.98312202e-01, -6.74233126e-01, -6.50154050e-01,\n",
       "        -6.26074973e-01, -6.01995897e-01, -5.77916821e-01, -5.53837744e-01,\n",
       "        -5.29758668e-01, -5.05679592e-01, -4.81600516e-01, -4.57521439e-01,\n",
       "        -4.33442363e-01, -4.09363287e-01, -3.85284210e-01, -3.61205134e-01,\n",
       "        -3.37126058e-01, -3.13046982e-01, -2.88967905e-01, -2.64888829e-01,\n",
       "        -2.40809753e-01, -2.16730676e-01, -1.92651600e-01, -1.68572524e-01,\n",
       "        -1.44493447e-01, -1.20414371e-01, -9.63352949e-02, -7.22562186e-02,\n",
       "        -4.81771423e-02, -2.40980660e-02, -1.89897010e-05]),\n",
       " <BarContainer object of 50 artists>)"
      ]
     },
     "execution_count": 11,
     "metadata": {},
     "output_type": "execute_result"
    },
    {
     "data": {
      "image/png": "[encoded data removed]",
      "text/plain": [
       "<Figure size 984.253x608.301 with 1 Axes>"
      ]
     },
     "metadata": {},
     "output_type": "display_data"
    }
   ],
   "source": [
    "plt.hist(cleaned_df[\"escape_rate\"].to_list(), bins= 50, density=True)"
   ]
  },
  {
   "cell_type": "code",
   "execution_count": 22,
   "metadata": {},
   "outputs": [
    {
     "data": {
      "image/png": "[encoded data removed]",
      "text/plain": [
       "<Figure size 984.253x608.301 with 1 Axes>"
      ]
     },
     "metadata": {},
     "output_type": "display_data"
    }
   ],
   "source": [
    "# Plot only by w0\n",
    "for w0 in w0_range:\n",
    "    x = cleaned_df[\"w0\"].loc[cleaned_df[\"w0\"]==w0].to_list()\n",
    "    y = cleaned_df[\"escape_rate\"].loc[cleaned_df[\"w0\"]==w0].to_list()    \n",
    "    plt.scatter(x, y)\n",
    "    "
   ]
  },
  {
   "cell_type": "code",
   "execution_count": 25,
   "metadata": {},
   "outputs": [
    {
     "data": {
      "text/plain": [
       "<matplotlib.collections.PathCollection at 0x29e327b90>"
      ]
     },
     "execution_count": 25,
     "metadata": {},
     "output_type": "execute_result"
    },
    {
     "data": {
      "image/png": "[encoded data removed]",
      "text/plain": [
       "<Figure size 984.253x608.301 with 1 Axes>"
      ]
     },
     "metadata": {},
     "output_type": "display_data"
    }
   ],
   "source": [
    "x = cleaned_df[\"w0\"]\n",
    "y = cleaned_df[\"escape_rate\"]\n",
    "plt.scatter(x,y)   "
   ]
  }
 ],
 "metadata": {
  "kernelspec": {
   "display_name": "devinterp",
   "language": "python",
   "name": "python3"
  },
  "language_info": {
   "codemirror_mode": {
    "name": "ipython",
    "version": 3
   },
   "file_extension": ".py",
   "mimetype": "text/x-python",
   "name": "python",
   "nbconvert_exporter": "python",
   "pygments_lexer": "ipython3",
   "version": "3.11.5"
  },
  "orig_nbformat": 4
 },
 "nbformat": 4,
 "nbformat_minor": 2
}
