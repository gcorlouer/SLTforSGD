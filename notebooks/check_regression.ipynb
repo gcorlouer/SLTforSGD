{
 "cells": [
  {
   "cell_type": "code",
   "execution_count": 1,
   "metadata": {},
   "outputs": [],
   "source": [
    "import numpy as np\n",
    "import matplotlib.pyplot as plt\n",
    "import seaborn as sns\n",
    "import torch\n",
    "import ast\n",
    "\n",
    "\n",
    "import sys\n",
    "import os\n",
    "from pathlib import Path"
   ]
  },
  {
   "cell_type": "code",
   "execution_count": 2,
   "metadata": {},
   "outputs": [
    {
     "name": "stdout",
     "output_type": "stream",
     "text": [
      "Lib path: /Users/guime/projects/SLTforSGD/code/lib\n"
     ]
    }
   ],
   "source": [
    "lib_path = os.path.abspath(os.path.join(os.getcwd(), '..', 'lib'))\n",
    "print(\"Lib path:\", lib_path)\n",
    "\n",
    "# Append the absolute path to sys.path\n",
    "sys.path.append(lib_path)\n",
    "\n",
    "# Now, try importing onedmodel\n",
    "from onedmodel import *"
   ]
  },
  {
   "cell_type": "code",
   "execution_count": 3,
   "metadata": {},
   "outputs": [],
   "source": [
    "# Plotting settings\n",
    "plt.style.use('ggplot')\n",
    "fig_width = 25  # figure width in cm\n",
    "inches_per_cm = 0.393701               # Convert cm to inch\n",
    "golden_mean = (np.sqrt(5)-1.0)/2.0         # Aesthetic ratio\n",
    "fig_width = fig_width*inches_per_cm  # width in inches\n",
    "fig_height = fig_width*golden_mean      # height in inches\n",
    "fig_size =  [fig_width,fig_height]\n",
    "label_size = 14\n",
    "tick_size = 12\n",
    "params = {'backend': 'ps',\n",
    "          'lines.linewidth': 1.5,\n",
    "          'axes.labelsize': label_size,\n",
    "          'axes.titlesize': label_size,\n",
    "          'font.size': label_size,\n",
    "          'legend.fontsize': tick_size,\n",
    "          'xtick.labelsize': tick_size,\n",
    "          'ytick.labelsize': tick_size,\n",
    "          'text.usetex': False,\n",
    "          'figure.figsize': fig_size,\n",
    "          \"font.weight\": \"bold\",\n",
    "          \"axes.labelweight\": \"bold\"}\n",
    "plt.rcParams.update(params)"
   ]
  },
  {
   "cell_type": "code",
   "execution_count": 5,
   "metadata": {},
   "outputs": [
    {
     "name": "stdout",
     "output_type": "stream",
     "text": [
      "Running experiment 0 over 4\n"
     ]
    },
    {
     "name": "stderr",
     "output_type": "stream",
     "text": [
      "/Users/guime/anaconda3/envs/devinterp/lib/python3.11/site-packages/scipy/stats/_stats_mstats_common.py:182: RuntimeWarning: invalid value encountered in scalar divide\n",
      "  slope = ssxym / ssxm\n",
      "/Users/guime/anaconda3/envs/devinterp/lib/python3.11/site-packages/scipy/stats/_stats_mstats_common.py:196: RuntimeWarning: invalid value encountered in sqrt\n",
      "  t = r * np.sqrt(df / ((1.0 - r + TINY)*(1.0 + r + TINY)))\n",
      "/Users/guime/anaconda3/envs/devinterp/lib/python3.11/site-packages/scipy/stats/_stats_mstats_common.py:199: RuntimeWarning: invalid value encountered in scalar divide\n",
      "  slope_stderr = np.sqrt((1 - r**2) * ssym / ssxm / df)\n"
     ]
    }
   ],
   "source": [
    "# Initialise\n",
    "nSGD = 10**3\n",
    "nsamples = 10**3\n",
    "shuffle = True\n",
    "batch_size= 20\n",
    "w0 = 1.8\n",
    "seed_init = 1\n",
    "seed_data = 1\n",
    "nw0 = 2\n",
    "wmax = nw0 * w0\n",
    "tmin = 3\n",
    "frac_max = 10**-3\n",
    "model = PolyModel(w0=w0, seed=seed_init, wmax=wmax, wmin=-wmax)\n",
    "sgd_runner = SGDPolyRunner(nSGD=nSGD, nsamples=nsamples, seed=seed_data, shuffle=shuffle, \n",
    "                           batch_size=batch_size, auto=True)\n",
    "# Run parameter sweep\n",
    "w0_range = np.arange(1, 2.2, 0.4)\n",
    "batch_range = [20]\n",
    "lr_range = [0.01]\n",
    "df = sgd_runner.parameter_sweep(w0_range, batch_range, lr_range, \n",
    "                        model, tmin=tmin, frac_max=frac_max)"
   ]
  },
  {
   "cell_type": "code",
   "execution_count": 15,
   "metadata": {},
   "outputs": [
    {
     "name": "stdout",
     "output_type": "stream",
     "text": [
      "[-2.86738224 -3.56052942 -4.57213033 -4.8598124  -5.26527751 -5.95842469\n",
      " -5.95842469        -inf        -inf        -inf        -inf        -inf\n",
      "        -inf        -inf        -inf        -inf        -inf        -inf\n",
      "        -inf        -inf        -inf        -inf        -inf        -inf\n",
      "        -inf        -inf        -inf        -inf        -inf        -inf\n",
      "        -inf        -inf        -inf        -inf        -inf        -inf\n",
      "        -inf        -inf        -inf        -inf        -inf        -inf\n",
      "        -inf        -inf        -inf        -inf        -inf        -inf\n",
      "        -inf        -inf        -inf        -inf        -inf        -inf\n",
      "        -inf        -inf        -inf        -inf        -inf        -inf\n",
      "        -inf        -inf        -inf        -inf        -inf        -inf\n",
      "        -inf        -inf        -inf        -inf        -inf        -inf\n",
      "        -inf        -inf        -inf        -inf        -inf        -inf\n",
      "        -inf        -inf        -inf        -inf        -inf        -inf\n",
      "        -inf        -inf        -inf        -inf        -inf        -inf\n",
      "        -inf        -inf        -inf        -inf        -inf        -inf\n",
      "        -inf        -inf        -inf        -inf        -inf        -inf\n",
      "        -inf        -inf        -inf        -inf        -inf        -inf\n",
      "        -inf        -inf        -inf        -inf        -inf        -inf\n",
      "        -inf        -inf        -inf        -inf        -inf        -inf\n",
      "        -inf        -inf        -inf        -inf        -inf        -inf\n",
      "        -inf        -inf        -inf        -inf        -inf        -inf\n",
      "        -inf        -inf        -inf        -inf        -inf        -inf\n",
      "        -inf        -inf        -inf        -inf        -inf        -inf\n",
      "        -inf        -inf        -inf        -inf        -inf        -inf\n",
      "        -inf        -inf        -inf        -inf        -inf        -inf\n",
      "        -inf        -inf        -inf        -inf        -inf        -inf\n",
      "        -inf        -inf        -inf        -inf        -inf        -inf\n",
      "        -inf        -inf        -inf        -inf        -inf        -inf\n",
      "        -inf        -inf        -inf        -inf        -inf        -inf\n",
      "        -inf        -inf        -inf        -inf        -inf        -inf\n",
      "        -inf        -inf        -inf        -inf        -inf        -inf\n",
      "        -inf        -inf        -inf        -inf        -inf        -inf\n",
      "        -inf        -inf        -inf]\n"
     ]
    },
    {
     "name": "stderr",
     "output_type": "stream",
     "text": [
      "<ipython-input-15-7faf7255f6b3>:8: RuntimeWarning: divide by zero encountered in log\n",
      "  log_frac = np.log(fraction[j])\n"
     ]
    },
    {
     "ename": "ValueError",
     "evalue": "x and y must have same first dimension, but have shapes (1,) and (201,)",
     "output_type": "error",
     "traceback": [
      "\u001b[0;31m---------------------------------------------------------------------------\u001b[0m",
      "\u001b[0;31mValueError\u001b[0m                                Traceback (most recent call last)",
      "Cell \u001b[0;32mIn[15], line 13\u001b[0m\n\u001b[1;32m     11\u001b[0m y \u001b[38;5;241m=\u001b[39m escape_rate[j] \u001b[38;5;241m*\u001b[39m time \u001b[38;5;241m+\u001b[39m intercept[j]\n\u001b[1;32m     12\u001b[0m plt\u001b[38;5;241m.\u001b[39mplot(time, y)\n\u001b[0;32m---> 13\u001b[0m \u001b[43mplt\u001b[49m\u001b[38;5;241;43m.\u001b[39;49m\u001b[43mplot\u001b[49m\u001b[43m(\u001b[49m\u001b[43mtime\u001b[49m\u001b[43m,\u001b[49m\u001b[43m \u001b[49m\u001b[43mlog_frac\u001b[49m\u001b[43m,\u001b[49m\u001b[43m \u001b[49m\u001b[38;5;124;43m'\u001b[39;49m\u001b[38;5;124;43m-\u001b[39;49m\u001b[38;5;124;43m'\u001b[39;49m\u001b[43m)\u001b[49m\n\u001b[1;32m     14\u001b[0m plt\u001b[38;5;241m.\u001b[39mxlabel(\u001b[38;5;124m\"\u001b[39m\u001b[38;5;124mtime\u001b[39m\u001b[38;5;124m\"\u001b[39m)\n\u001b[1;32m     15\u001b[0m plt\u001b[38;5;241m.\u001b[39mylabel(\u001b[38;5;124m\"\u001b[39m\u001b[38;5;124mLog fraction\u001b[39m\u001b[38;5;124m\"\u001b[39m)\n",
      "File \u001b[0;32m~/anaconda3/envs/devinterp/lib/python3.11/site-packages/matplotlib/pyplot.py:3578\u001b[0m, in \u001b[0;36mplot\u001b[0;34m(scalex, scaley, data, *args, **kwargs)\u001b[0m\n\u001b[1;32m   3570\u001b[0m \u001b[38;5;129m@_copy_docstring_and_deprecators\u001b[39m(Axes\u001b[38;5;241m.\u001b[39mplot)\n\u001b[1;32m   3571\u001b[0m \u001b[38;5;28;01mdef\u001b[39;00m \u001b[38;5;21mplot\u001b[39m(\n\u001b[1;32m   3572\u001b[0m     \u001b[38;5;241m*\u001b[39margs: \u001b[38;5;28mfloat\u001b[39m \u001b[38;5;241m|\u001b[39m ArrayLike \u001b[38;5;241m|\u001b[39m \u001b[38;5;28mstr\u001b[39m,\n\u001b[0;32m   (...)\u001b[0m\n\u001b[1;32m   3576\u001b[0m     \u001b[38;5;241m*\u001b[39m\u001b[38;5;241m*\u001b[39mkwargs,\n\u001b[1;32m   3577\u001b[0m ) \u001b[38;5;241m-\u001b[39m\u001b[38;5;241m>\u001b[39m \u001b[38;5;28mlist\u001b[39m[Line2D]:\n\u001b[0;32m-> 3578\u001b[0m     \u001b[38;5;28;01mreturn\u001b[39;00m \u001b[43mgca\u001b[49m\u001b[43m(\u001b[49m\u001b[43m)\u001b[49m\u001b[38;5;241;43m.\u001b[39;49m\u001b[43mplot\u001b[49m\u001b[43m(\u001b[49m\n\u001b[1;32m   3579\u001b[0m \u001b[43m        \u001b[49m\u001b[38;5;241;43m*\u001b[39;49m\u001b[43margs\u001b[49m\u001b[43m,\u001b[49m\n\u001b[1;32m   3580\u001b[0m \u001b[43m        \u001b[49m\u001b[43mscalex\u001b[49m\u001b[38;5;241;43m=\u001b[39;49m\u001b[43mscalex\u001b[49m\u001b[43m,\u001b[49m\n\u001b[1;32m   3581\u001b[0m \u001b[43m        \u001b[49m\u001b[43mscaley\u001b[49m\u001b[38;5;241;43m=\u001b[39;49m\u001b[43mscaley\u001b[49m\u001b[43m,\u001b[49m\n\u001b[1;32m   3582\u001b[0m \u001b[43m        \u001b[49m\u001b[38;5;241;43m*\u001b[39;49m\u001b[38;5;241;43m*\u001b[39;49m\u001b[43m(\u001b[49m\u001b[43m{\u001b[49m\u001b[38;5;124;43m\"\u001b[39;49m\u001b[38;5;124;43mdata\u001b[39;49m\u001b[38;5;124;43m\"\u001b[39;49m\u001b[43m:\u001b[49m\u001b[43m \u001b[49m\u001b[43mdata\u001b[49m\u001b[43m}\u001b[49m\u001b[43m \u001b[49m\u001b[38;5;28;43;01mif\u001b[39;49;00m\u001b[43m \u001b[49m\u001b[43mdata\u001b[49m\u001b[43m \u001b[49m\u001b[38;5;129;43;01mis\u001b[39;49;00m\u001b[43m \u001b[49m\u001b[38;5;129;43;01mnot\u001b[39;49;00m\u001b[43m \u001b[49m\u001b[38;5;28;43;01mNone\u001b[39;49;00m\u001b[43m \u001b[49m\u001b[38;5;28;43;01melse\u001b[39;49;00m\u001b[43m \u001b[49m\u001b[43m{\u001b[49m\u001b[43m}\u001b[49m\u001b[43m)\u001b[49m\u001b[43m,\u001b[49m\n\u001b[1;32m   3583\u001b[0m \u001b[43m        \u001b[49m\u001b[38;5;241;43m*\u001b[39;49m\u001b[38;5;241;43m*\u001b[39;49m\u001b[43mkwargs\u001b[49m\u001b[43m,\u001b[49m\n\u001b[1;32m   3584\u001b[0m \u001b[43m    \u001b[49m\u001b[43m)\u001b[49m\n",
      "File \u001b[0;32m~/anaconda3/envs/devinterp/lib/python3.11/site-packages/matplotlib/axes/_axes.py:1721\u001b[0m, in \u001b[0;36mAxes.plot\u001b[0;34m(self, scalex, scaley, data, *args, **kwargs)\u001b[0m\n\u001b[1;32m   1478\u001b[0m \u001b[38;5;250m\u001b[39m\u001b[38;5;124;03m\"\"\"\u001b[39;00m\n\u001b[1;32m   1479\u001b[0m \u001b[38;5;124;03mPlot y versus x as lines and/or markers.\u001b[39;00m\n\u001b[1;32m   1480\u001b[0m \n\u001b[0;32m   (...)\u001b[0m\n\u001b[1;32m   1718\u001b[0m \u001b[38;5;124;03m(``'green'``) or hex strings (``'#008000'``).\u001b[39;00m\n\u001b[1;32m   1719\u001b[0m \u001b[38;5;124;03m\"\"\"\u001b[39;00m\n\u001b[1;32m   1720\u001b[0m kwargs \u001b[38;5;241m=\u001b[39m cbook\u001b[38;5;241m.\u001b[39mnormalize_kwargs(kwargs, mlines\u001b[38;5;241m.\u001b[39mLine2D)\n\u001b[0;32m-> 1721\u001b[0m lines \u001b[38;5;241m=\u001b[39m [\u001b[38;5;241m*\u001b[39m\u001b[38;5;28mself\u001b[39m\u001b[38;5;241m.\u001b[39m_get_lines(\u001b[38;5;28mself\u001b[39m, \u001b[38;5;241m*\u001b[39margs, data\u001b[38;5;241m=\u001b[39mdata, \u001b[38;5;241m*\u001b[39m\u001b[38;5;241m*\u001b[39mkwargs)]\n\u001b[1;32m   1722\u001b[0m \u001b[38;5;28;01mfor\u001b[39;00m line \u001b[38;5;129;01min\u001b[39;00m lines:\n\u001b[1;32m   1723\u001b[0m     \u001b[38;5;28mself\u001b[39m\u001b[38;5;241m.\u001b[39madd_line(line)\n",
      "File \u001b[0;32m~/anaconda3/envs/devinterp/lib/python3.11/site-packages/matplotlib/axes/_base.py:303\u001b[0m, in \u001b[0;36m_process_plot_var_args.__call__\u001b[0;34m(self, axes, data, *args, **kwargs)\u001b[0m\n\u001b[1;32m    301\u001b[0m     this \u001b[38;5;241m+\u001b[39m\u001b[38;5;241m=\u001b[39m args[\u001b[38;5;241m0\u001b[39m],\n\u001b[1;32m    302\u001b[0m     args \u001b[38;5;241m=\u001b[39m args[\u001b[38;5;241m1\u001b[39m:]\n\u001b[0;32m--> 303\u001b[0m \u001b[38;5;28;01myield from\u001b[39;00m \u001b[38;5;28;43mself\u001b[39;49m\u001b[38;5;241;43m.\u001b[39;49m\u001b[43m_plot_args\u001b[49m\u001b[43m(\u001b[49m\n\u001b[1;32m    304\u001b[0m \u001b[43m    \u001b[49m\u001b[43maxes\u001b[49m\u001b[43m,\u001b[49m\u001b[43m \u001b[49m\u001b[43mthis\u001b[49m\u001b[43m,\u001b[49m\u001b[43m \u001b[49m\u001b[43mkwargs\u001b[49m\u001b[43m,\u001b[49m\u001b[43m \u001b[49m\u001b[43mambiguous_fmt_datakey\u001b[49m\u001b[38;5;241;43m=\u001b[39;49m\u001b[43mambiguous_fmt_datakey\u001b[49m\u001b[43m)\u001b[49m\n",
      "File \u001b[0;32m~/anaconda3/envs/devinterp/lib/python3.11/site-packages/matplotlib/axes/_base.py:499\u001b[0m, in \u001b[0;36m_process_plot_var_args._plot_args\u001b[0;34m(self, axes, tup, kwargs, return_kwargs, ambiguous_fmt_datakey)\u001b[0m\n\u001b[1;32m    496\u001b[0m     axes\u001b[38;5;241m.\u001b[39myaxis\u001b[38;5;241m.\u001b[39mupdate_units(y)\n\u001b[1;32m    498\u001b[0m \u001b[38;5;28;01mif\u001b[39;00m x\u001b[38;5;241m.\u001b[39mshape[\u001b[38;5;241m0\u001b[39m] \u001b[38;5;241m!=\u001b[39m y\u001b[38;5;241m.\u001b[39mshape[\u001b[38;5;241m0\u001b[39m]:\n\u001b[0;32m--> 499\u001b[0m     \u001b[38;5;28;01mraise\u001b[39;00m \u001b[38;5;167;01mValueError\u001b[39;00m(\u001b[38;5;124mf\u001b[39m\u001b[38;5;124m\"\u001b[39m\u001b[38;5;124mx and y must have same first dimension, but \u001b[39m\u001b[38;5;124m\"\u001b[39m\n\u001b[1;32m    500\u001b[0m                      \u001b[38;5;124mf\u001b[39m\u001b[38;5;124m\"\u001b[39m\u001b[38;5;124mhave shapes \u001b[39m\u001b[38;5;132;01m{\u001b[39;00mx\u001b[38;5;241m.\u001b[39mshape\u001b[38;5;132;01m}\u001b[39;00m\u001b[38;5;124m and \u001b[39m\u001b[38;5;132;01m{\u001b[39;00my\u001b[38;5;241m.\u001b[39mshape\u001b[38;5;132;01m}\u001b[39;00m\u001b[38;5;124m\"\u001b[39m)\n\u001b[1;32m    501\u001b[0m \u001b[38;5;28;01mif\u001b[39;00m x\u001b[38;5;241m.\u001b[39mndim \u001b[38;5;241m>\u001b[39m \u001b[38;5;241m2\u001b[39m \u001b[38;5;129;01mor\u001b[39;00m y\u001b[38;5;241m.\u001b[39mndim \u001b[38;5;241m>\u001b[39m \u001b[38;5;241m2\u001b[39m:\n\u001b[1;32m    502\u001b[0m     \u001b[38;5;28;01mraise\u001b[39;00m \u001b[38;5;167;01mValueError\u001b[39;00m(\u001b[38;5;124mf\u001b[39m\u001b[38;5;124m\"\u001b[39m\u001b[38;5;124mx and y can be no greater than 2D, but have \u001b[39m\u001b[38;5;124m\"\u001b[39m\n\u001b[1;32m    503\u001b[0m                      \u001b[38;5;124mf\u001b[39m\u001b[38;5;124m\"\u001b[39m\u001b[38;5;124mshapes \u001b[39m\u001b[38;5;132;01m{\u001b[39;00mx\u001b[38;5;241m.\u001b[39mshape\u001b[38;5;132;01m}\u001b[39;00m\u001b[38;5;124m and \u001b[39m\u001b[38;5;132;01m{\u001b[39;00my\u001b[38;5;241m.\u001b[39mshape\u001b[38;5;132;01m}\u001b[39;00m\u001b[38;5;124m\"\u001b[39m)\n",
      "\u001b[0;31mValueError\u001b[0m: x and y must have same first dimension, but have shapes (1,) and (201,)"
     ]
    }
   ],
   "source": [
    "cleaned_df = df.copy().dropna()\n",
    "for i, w0 in enumerate(w0_range):\n",
    "    escape_rate = cleaned_df[\"escape_rate\"].loc[cleaned_df[\"w0\"]==w0].to_numpy()\n",
    "    intercept = cleaned_df[\"intercept\"].loc[cleaned_df[\"w0\"]==w0].to_numpy()\n",
    "    fraction = cleaned_df[\"fraction\"].loc[cleaned_df[\"w0\"]==w0].to_numpy()\n",
    "    plt.subplot(3,2,i+1)\n",
    "    for j in range(len(escape_rate)):\n",
    "        log_frac = np.log(fraction[j])\n",
    "        print(log_frac)\n",
    "        time = np.arange(0,1, len(fraction[j]))\n",
    "        y = escape_rate[j] * time + intercept[j]\n",
    "        plt.plot(time, y)\n",
    "        plt.plot(time, log_frac, '-')\n",
    "        plt.xlabel(\"time\")\n",
    "        plt.ylabel(\"Log fraction\")\n",
    "plt.show()"
   ]
  },
  {
   "cell_type": "code",
   "execution_count": 82,
   "metadata": {},
   "outputs": [
    {
     "name": "stderr",
     "output_type": "stream",
     "text": [
      "<ipython-input-82-40d85c047319>:8: RuntimeWarning: divide by zero encountered in log\n",
      "  log_frac = np.log(fraction)\n"
     ]
    },
    {
     "data": {
      "image/png": "[encoded data removed]",
      "text/plain": [
       "<Figure size 984.253x608.301 with 1 Axes>"
      ]
     },
     "metadata": {},
     "output_type": "display_data"
    }
   ],
   "source": [
    "%matplotlib inline\n",
    "cleaned_df = df.copy().dropna()\n",
    "w0s = sorted(list(set(cleaned_df[\"w0\"].to_list())))\n",
    "w0 = w0s[0]\n",
    "nB = len(cleaned_df[\"fraction\"].loc[cleaned_df[\"w0\"]==w0])\n",
    "for i in range(nB):\n",
    "    fraction = cleaned_df[\"fraction\"].loc[cleaned_df[\"w0\"]==w0].iloc[i]\n",
    "    log_frac = np.log(fraction)\n",
    "    slope = cleaned_df[\"escape_rate\"].loc[cleaned_df[\"w0\"]==w0].iloc[i]\n",
    "    intercept = cleaned_df[\"intercept\"].loc[cleaned_df[\"w0\"]==w0].iloc[i]\n",
    "    time = np.arange(0,len(fraction))\n",
    "    y = slope * time + intercept\n",
    "    plt.scatter(time, log_frac)\n",
    "    plt.xlim(0,25)\n",
    "    plt.ylim(-6,0)\n",
    "    plt.plot(time, y)\n",
    "plt.show()"
   ]
  },
  {
   "cell_type": "code",
   "execution_count": 48,
   "metadata": {},
   "outputs": [
    {
     "name": "stdout",
     "output_type": "stream",
     "text": [
      "[1.4, 1.4, 1.4, 1.4, 1.4, 1.4, 1.5999999999999999, 1.5999999999999999, 1.5999999999999999, 1.5999999999999999, 1.7999999999999998, 1.7999999999999998, 1.7999999999999998, 1.7999999999999998, 1.7999999999999998, 1.9999999999999998, 1.9999999999999998, 1.9999999999999998, 1.9999999999999998]\n",
      "Series([], Name: fraction, dtype: object)\n"
     ]
    }
   ],
   "source": [
    "w0s = cleaned_df[\"w0\"].to_list()\n",
    "print(w0s)\n",
    "fraction = cleaned_df[\"fraction\"].loc[cleaned_df[\"w0\"]==w0]\n",
    "print(fraction)"
   ]
  },
  {
   "cell_type": "code",
   "execution_count": 57,
   "metadata": {},
   "outputs": [
    {
     "name": "stdout",
     "output_type": "stream",
     "text": [
      "0    -0.852374\n",
      "1    -0.002049\n",
      "2    -0.000019\n",
      "3    -0.852374\n",
      "4    -0.000180\n",
      "5    -0.000187\n",
      "7    -0.033707\n",
      "8    -0.000020\n",
      "10   -0.008732\n",
      "11   -0.000209\n",
      "12   -0.693147\n",
      "13   -0.126667\n",
      "14   -0.000021\n",
      "16   -0.131200\n",
      "17   -0.000205\n",
      "19   -0.375314\n",
      "20   -0.000021\n",
      "22   -0.422149\n",
      "23   -0.000201\n",
      "Name: escape_rate, dtype: float64\n"
     ]
    }
   ],
   "source": [
    "slope = cleaned_df[\"escape_rate\"]\n",
    "print(slope)"
   ]
  }
 ],
 "metadata": {
  "kernelspec": {
   "display_name": "devinterp",
   "language": "python",
   "name": "python3"
  },
  "language_info": {
   "codemirror_mode": {
    "name": "ipython",
    "version": 3
   },
   "file_extension": ".py",
   "mimetype": "text/x-python",
   "name": "python",
   "nbconvert_exporter": "python",
   "pygments_lexer": "ipython3",
   "version": "3.11.5"
  }
 },
 "nbformat": 4,
 "nbformat_minor": 2
}
