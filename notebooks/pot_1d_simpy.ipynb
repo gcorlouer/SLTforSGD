{
 "cells": [
  {
   "cell_type": "code",
   "execution_count": 1,
   "metadata": {},
   "outputs": [],
   "source": [
    "from sage.all import *\n",
    "from IPython.display import display, Math"
   ]
  },
  {
   "cell_type": "code",
   "execution_count": null,
   "id": "63f24ad5",
   "metadata": {},
   "outputs": [],
   "source": [
    "# Express KL in terms of loss functions\n"
   ]
  },
  {
   "cell_type": "code",
   "execution_count": 3,
   "id": "a434296c",
   "metadata": {},
   "outputs": [
    {
     "data": {
      "text/plain": [
       "w^6 - 2*w^5 - w^4 + 4*w^3 - w^2 - 2*w + 1"
      ]
     },
     "execution_count": 3,
     "metadata": {},
     "output_type": "execute_result"
    }
   ],
   "source": [
    "w = var('w')\n",
    "kw = (w - 1)**4 * (w+1)**2\n",
    "kw.expand()"
   ]
  },
  {
   "cell_type": "code",
   "execution_count": 4,
   "id": "daa3246f",
   "metadata": {},
   "outputs": [
    {
     "data": {
      "text/latex": [
       "$\\displaystyle a_{1}^{2} a_{2}^{2} a_{3}^{2} s_{x}^{2} + s_{x}^{2} w^{6} + 2 \\, {\\left(a_{1} s_{x}^{2} + a_{2} s_{x}^{2} + a_{3} s_{x}^{2}\\right)} w^{5} + {\\left(a_{1}^{2} s_{x}^{2} + 4 \\, a_{1} a_{2} s_{x}^{2} + a_{2}^{2} s_{x}^{2} + 4 \\, a_{1} a_{3} s_{x}^{2} + 4 \\, a_{2} a_{3} s_{x}^{2} + a_{3}^{2} s_{x}^{2}\\right)} w^{4} - 2 \\, a_{1} a_{2} a_{3} s_{\\mathit{xy}} + 2 \\, {\\left(a_{1}^{2} a_{2} s_{x}^{2} + a_{1} a_{2}^{2} s_{x}^{2} + a_{1}^{2} a_{3} s_{x}^{2} + 4 \\, a_{1} a_{2} a_{3} s_{x}^{2} + a_{2}^{2} a_{3} s_{x}^{2} + a_{1} a_{3}^{2} s_{x}^{2} + a_{2} a_{3}^{2} s_{x}^{2} - s_{\\mathit{xy}}\\right)} w^{3} + {\\left(a_{1}^{2} a_{2}^{2} s_{x}^{2} + 4 \\, a_{1}^{2} a_{2} a_{3} s_{x}^{2} + 4 \\, a_{1} a_{2}^{2} a_{3} s_{x}^{2} + a_{1}^{2} a_{3}^{2} s_{x}^{2} + 4 \\, a_{1} a_{2} a_{3}^{2} s_{x}^{2} + a_{2}^{2} a_{3}^{2} s_{x}^{2} - 2 \\, a_{1} s_{\\mathit{xy}} - 2 \\, a_{2} s_{\\mathit{xy}} - 2 \\, a_{3} s_{\\mathit{xy}}\\right)} w^{2} + s_{y}^{2} + 2 \\, {\\left(a_{1}^{2} a_{2}^{2} a_{3} s_{x}^{2} + a_{1}^{2} a_{2} a_{3}^{2} s_{x}^{2} + a_{1} a_{2}^{2} a_{3}^{2} s_{x}^{2} - a_{1} a_{2} s_{\\mathit{xy}} - a_{1} a_{3} s_{\\mathit{xy}} - a_{2} a_{3} s_{\\mathit{xy}}\\right)} w$"
      ],
      "text/plain": [
       "<IPython.core.display.Math object>"
      ]
     },
     "metadata": {},
     "output_type": "display_data"
    }
   ],
   "source": [
    "# Creating symbolic variables\n",
    "w = var('w')\n",
    "a = [SR.var(f'a_{i}') for i in range(1, 4)]\n",
    "sy = var('s_y')\n",
    "sx = var('s_x')\n",
    "sxy = var('s_xy')\n",
    "\n",
    "# Defining the product\n",
    "W = prod(w + a[i] for i in range(0,3))\n",
    "# Expand and collect E[kn]\n",
    "kn = sy**2 - 2 * W * sxy + W**2 * sx**2\n",
    "kn = kn.expand()\n",
    "kn = kn.collect(w)\n",
    "latex_kn = latex(kn)\n",
    "display(Math(latex_kn))"
   ]
  },
  {
   "cell_type": "code",
   "execution_count": 5,
   "id": "2c1b247d",
   "metadata": {},
   "outputs": [
    {
     "name": "stdout",
     "output_type": "stream",
     "text": [
      "1/2*hw^8*x^2/s^2 - hw^4*w^4*x^2/s^2 + 1/2*w^8*x^2/s^2 + hw^6*x^2/s^2 - hw^4*w^2*x^2/s^2 - hw^2*w^4*x^2/s^2 + w^6*x^2/s^2 + 1/2*hw^4*x^2/s^2 - hw^2*w^2*x^2/s^2 + 1/2*w^4*x^2/s^2\n",
      "1/2*(hw^2 + w^2 + 1)^2*(hw + w)^2*(hw - w)^2*x^2/s^2\n"
     ]
    }
   ],
   "source": [
    "x = var('x')\n",
    "w = var('w')\n",
    "hw = var('hw')\n",
    "s = var('s')\n",
    "kw = ((w**2*x + w**4 * x) - (hw**2 * x + hw**4 * x))**2 / (2*s**2)\n",
    "print(expand(kw))\n",
    "print(factor(kw))"
   ]
  }
 ],
 "metadata": {
  "kernelspec": {
   "display_name": "sage",
   "language": "python",
   "name": "python3"
  },
  "language_info": {
   "codemirror_mode": {
    "name": "ipython",
    "version": 3
   },
   "file_extension": ".py",
   "mimetype": "text/x-python",
   "name": "python",
   "nbconvert_exporter": "python",
   "pygments_lexer": "ipython3",
   "version": "3.10.12"
  }
 },
 "nbformat": 4,
 "nbformat_minor": 5
}
