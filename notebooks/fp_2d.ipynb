{
 "cells": [
  {
   "cell_type": "code",
   "execution_count": 2,
   "metadata": {},
   "outputs": [],
   "source": [
    "import numpy as np\n",
    "import matplotlib.pyplot as plt\n",
    "from scipy.optimize import minimize\n",
    "import sympy as sym\n",
    "from sympy import symbols, diff\n",
    "from sympy.vector import CoordSys3D\n",
    "from sympy.utilities.lambdify import lambdastr, implemented_function, lambdify\n",
    "from glob import glob\n",
    "\n",
    "from sys import path\n",
    "path.insert(0, \"lib\")"
   ]
  },
  {
   "cell_type": "code",
   "execution_count": null,
   "metadata": {},
   "outputs": [],
   "source": [
    "def get_coeffs(q, print_func=False):\n",
    "    w, w0, v, ve, l, b = sym.symbols('w w0 v ve l b')\n",
    "    N = CoordSys3D('N')\n",
    "    grad_q = sym.diff(q, w)\n",
    "    h = -l*v*q*grad_q\n",
    "    g = (l/sym.sqrt(b))*(-v*q*grad_q*N.i + sym.sqrt(v*ve/2)*grad_q*N.j)\n",
    "    d1 = h + g.dot(sym.diff(g, w))\n",
    "    d2 = g.dot(g)\n",
    "    convection = -d1 + sym.diff(d2, w)\n",
    "    if print_func:\n",
    "        display(\"convection term:\", sym.factor(convection))\n",
    "        display(\"diffusion term:\", d2)\n",
    "    return lambdify((l, v, ve, w0, b, w), convection), lambdify((l, v, ve, w0, b, w), d2)"
   ]
  },
  {
   "cell_type": "markdown",
   "metadata": {},
   "source": [
    "Compute the gradient of the loss"
   ]
  },
  {
   "cell_type": "code",
   "execution_count": 3,
   "metadata": {},
   "outputs": [],
   "source": [
    "# Define the symbols\n",
    "w1, w2, c = symbols('w1 w2 c')\n",
    "\n",
    "# Define the loss function\n",
    "loss = (w1**2 + w2**2 - c)**2 * w1**2\n",
    "\n",
    "# Compute the gradient of the loss function\n",
    "gradient_w1 = diff(loss, w1)\n",
    "gradient_w2 = diff(loss, w2)\n",
    "\n",
    "gradient_w1, gradient_w2\n",
    "loss = (w1**2 + w2**2 - c)**2 * w1**2\n"
   ]
  },
  {
   "cell_type": "markdown",
   "metadata": {},
   "source": [
    "Compute the covariance matrix"
   ]
  },
  {
   "cell_type": "code",
   "execution_count": null,
   "metadata": {},
   "outputs": [],
   "source": []
  },
  {
   "cell_type": "code",
   "execution_count": null,
   "metadata": {},
   "outputs": [],
   "source": [
    "w, w0 = sym.symbols('w w0')\n",
    "q = (w-w0)*(w**2 + 1)\n",
    "convection, d2 = get_coeffs(q, print_func=True)"
   ]
  }
 ],
 "metadata": {
  "kernelspec": {
   "display_name": "devinterp",
   "language": "python",
   "name": "python3"
  },
  "language_info": {
   "codemirror_mode": {
    "name": "ipython",
    "version": 3
   },
   "file_extension": ".py",
   "mimetype": "text/x-python",
   "name": "python",
   "nbconvert_exporter": "python",
   "pygments_lexer": "ipython3",
   "version": "3.11.5"
  }
 },
 "nbformat": 4,
 "nbformat_minor": 2
}
